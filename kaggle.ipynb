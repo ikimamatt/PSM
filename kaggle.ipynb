{
 "cells": [
  {
   "cell_type": "code",
   "execution_count": 1,
   "id": "ebbc885a",
   "metadata": {},
   "outputs": [
    {
     "name": "stdout",
     "output_type": "stream",
     "text": [
      "                                                 ulasan  rating sentiment  \\\n",
      "1501                                         Banyak bug       2  negative   \n",
      "2586                           tak e es es batu pahat s       3   neutral   \n",
      "2653  Orderan sy dpt lawan arah koq bisaya  Sy buat ...       3   neutral   \n",
      "1055                    Bug pada jaringan saat mengirim       2  negative   \n",
      "705   Trauma pakek aplikasi ini ngasih pin salah say...       1  negative   \n",
      "\n",
      "     predicted_sentiment  \n",
      "1501            positive  \n",
      "2586            positive  \n",
      "2653            negative  \n",
      "1055            negative  \n",
      "705             negative  \n"
     ]
    }
   ],
   "source": [
    "import pandas as pd\n",
    "import random\n",
    "from sklearn.feature_extraction.text import CountVectorizer\n",
    "from sklearn.naive_bayes import MultinomialNB\n",
    "from sklearn.pipeline import Pipeline\n",
    "from sklearn.model_selection import train_test_split\n",
    "from sklearn.metrics import classification_report\n",
    "from Sastrawi.StopWordRemover.StopWordRemoverFactory import StopWordRemoverFactory\n",
    "from Sastrawi.Stemmer.StemmerFactory import StemmerFactory\n",
    "\n",
    "# 1. Load dataset\n",
    "df = pd.read_csv('ulasan_gojek.csv')  # ganti dengan nama file CSV Anda\n",
    "\n",
    "# 2. Label sentimen berdasarkan rating\n",
    "def get_sentiment(rating):\n",
    "    if rating <= 2:\n",
    "        return 'negative'\n",
    "    elif rating == 3:\n",
    "        return 'neutral'\n",
    "    else:\n",
    "        return 'positive'\n",
    "\n",
    "df['sentiment'] = df['rating'].apply(get_sentiment)\n",
    "\n",
    "# 3. Preprocessing dengan Sastrawi\n",
    "stop_factory = StopWordRemoverFactory()\n",
    "stopword = stop_factory.create_stop_word_remover()\n",
    "\n",
    "stem_factory = StemmerFactory()\n",
    "stemmer = stem_factory.create_stemmer()\n",
    "\n",
    "def preprocess(text):\n",
    "    text = stopword.remove(text.lower())\n",
    "    text = stemmer.stem(text)\n",
    "    return text\n",
    "\n",
    "df['clean_ulasan'] = df['ulasan'].astype(str).apply(preprocess)\n",
    "\n",
    "# 4. Split data\n",
    "X_train, X_test, y_train, y_test = train_test_split(df['clean_ulasan'], df['sentiment'], test_size=0.2, random_state=42)\n",
    "\n",
    "# 5. Pipeline vectorizer + classifier\n",
    "model = Pipeline([\n",
    "    ('vectorizer', CountVectorizer()),\n",
    "    ('classifier', MultinomialNB())\n",
    "])\n",
    "\n",
    "# 6. Train\n",
    "model.fit(X_train, y_train)\n",
    "\n",
    "# 7. Prediksi pada 5 data random\n",
    "random_data = df.sample(5, random_state=42).copy()\n",
    "random_data['predicted_sentiment'] = model.predict(random_data['clean_ulasan'])\n",
    "\n",
    "# 8. Tampilkan hasil\n",
    "print(random_data[['ulasan', 'rating', 'sentiment', 'predicted_sentiment']])\n"
   ]
  }
 ],
 "metadata": {
  "kernelspec": {
   "display_name": "envi_rahmatullah",
   "language": "python",
   "name": "python3"
  },
  "language_info": {
   "codemirror_mode": {
    "name": "ipython",
    "version": 3
   },
   "file_extension": ".py",
   "mimetype": "text/x-python",
   "name": "python",
   "nbconvert_exporter": "python",
   "pygments_lexer": "ipython3",
   "version": "3.13.2"
  }
 },
 "nbformat": 4,
 "nbformat_minor": 5
}
